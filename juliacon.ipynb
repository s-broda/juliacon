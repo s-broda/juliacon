{
 "cells": [
  {
   "cell_type": "markdown",
   "metadata": {
    "slideshow": {
     "slide_type": "slide"
    }
   },
   "source": [
    "<p style=\"text-align: center; font-size: 300%\"> ARCH Models in Julia </p>\n",
    "<p style=\"text-align: center; font-size: 200%\"> Simon A. Broda </p>\n",
    "<p style=\"text-align: center; font-size: 100%\"> University of Zurich and University of Amsterdam <br>\n",
    "<a href=\"mailto:simon.broda@uzh.ch\">simon.broda@uzh.ch</a> </p>\n",
    "<img src=\"LOGO_ERC-FLAG_EU_.jpg\" alt=\"LOGO\" style=\"display:block; margin-left: auto; margin-right: auto; width: 20%;\">\n",
    "<p style=\"text-align: center; font-size: 100%\"> This project has received funding from the European Research Council (ERC) under the European Union's Horizon 2020 research and innovation program (grant agreement No. 750559). </p>"
   ]
  },
  {
   "cell_type": "markdown",
   "metadata": {
    "slideshow": {
     "slide_type": "slide"
    }
   },
   "source": [
    "# Introduction\n",
    "* Daily financial returns data exhibit a number of *stylized facts*:\n",
    "  * Volatility clustering\n",
    "  * Non-Gaussianity, fat tails\n",
    "  * Leverage effects: negative returns increase future volatility\n",
    "* Other types of data (e.g., changes in interest rates) exhibit similar phenomena.\n",
    "* These effects are important in many areas in finance, in particular in risk management.\n",
    "* [G]ARCH ([**G**eneralized] **A**utoregressive **C**onditional **V**olatility) models are the most popoular for modelling them."
   ]
  },
  {
   "cell_type": "code",
   "execution_count": 1,
   "metadata": {
    "slideshow": {
     "slide_type": "skip"
    }
   },
   "outputs": [
    {
     "name": "stderr",
     "output_type": "stream",
     "text": [
      "\u001b[1m\u001b[36mINFO: \u001b[39m\u001b[22m\u001b[36mPrecompiling module Plots.\n",
      "\u001b[39m\u001b[1m\u001b[36mINFO: \u001b[39m\u001b[22m\u001b[36mRecompiling stale cache file /home/broda/.julia/lib/v0.6/Rmath.ji for module Rmath.\n",
      "\u001b[39m\u001b[1m\u001b[36mINFO: \u001b[39m\u001b[22m\u001b[36mRecompiling stale cache file /home/broda/.julia/lib/v0.6/StatsFuns.ji for module StatsFuns.\n",
      "\u001b[39m\u001b[1m\u001b[36mINFO: \u001b[39m\u001b[22m\u001b[36mRecompiling stale cache file /home/broda/.julia/lib/v0.6/Distributions.ji for module Distributions.\n",
      "\u001b[39m\u001b[1m\u001b[36mINFO: \u001b[39m\u001b[22m\u001b[36mPrecompiling module KernelDensity.\n",
      "\u001b[39m\u001b[1m\u001b[36mINFO: \u001b[39m\u001b[22m\u001b[36mPrecompiling module IterableTables.\n",
      "\u001b[39m\u001b[1m\u001b[36mINFO: \u001b[39m\u001b[22m\u001b[36mPrecompiling module DataValues.\n",
      "\u001b[39m\u001b[1m\u001b[36mINFO: \u001b[39m\u001b[22m\u001b[36mPrecompiling module TableTraitsUtils.\n",
      "\u001b[39m\u001b[1m\u001b[36mINFO: \u001b[39m\u001b[22m\u001b[36mRecompiling stale cache file /home/broda/.julia/lib/v0.6/PyPlot.ji for module PyPlot.\n",
      "\u001b[39m"
     ]
    }
   ],
   "source": [
    "using MarketData, TimeSeries, Plots, Distributions, KernelDensity, StatPlots\n",
    "pyplot()\n",
    "r = percentchange(MarketData.AAPL[\"Adj. Close\"])\n",
    "p = plot(r)\n",
    "savefig(\"returns\")"
   ]
  },
  {
   "cell_type": "markdown",
   "metadata": {
    "slideshow": {
     "slide_type": "slide"
    }
   },
   "source": [
    "## Example: volatility clustering in AAPL returns\n",
    "<img src=\"returns.png\" alt=\"RETURNS\" style=\"display:block; margin-left: auto; margin-right: auto; width: 50%;\">"
   ]
  },
  {
   "cell_type": "code",
   "execution_count": 2,
   "metadata": {
    "slideshow": {
     "slide_type": "skip"
    }
   },
   "outputs": [],
   "source": [
    "plot(kde(r.values), label=\"Kernel Density\")\n",
    "plot!(fit(Normal,r.values), label=\"Fitted Normal\")\n",
    "savefig(\"kde\")"
   ]
  },
  {
   "cell_type": "markdown",
   "metadata": {
    "slideshow": {
     "slide_type": "slide"
    }
   },
   "source": [
    "## Example: fat tails in AAPL return density\n",
    "<img src=\"kde.png\" alt=\"Kernel Density\" style=\"display:block; margin-left: auto; margin-right: auto; width: 50%;\">"
   ]
  },
  {
   "cell_type": "markdown",
   "metadata": {
    "slideshow": {
     "slide_type": "slide"
    }
   },
   "source": [
    "\n",
    "\n",
    "# (G)ARCH Models\n",
    "* Basic setup: given a sample of financial returns $\\{r_t\\}_{t\\in\\{1,\\ldots,T\\}}$, decompose $r_t$ as\n",
    "$$\n",
    "r_t=\\mu_t+\\sigma_tz_t, \\quad z_t\\stackrel{i.i.d.}{\\sim}(0,1),\n",
    "$$\n",
    "where $\\mu_t\\equiv\\mathbb{E}[r_t\\mid \\mathcal{F}_{t-1}]$ and $\\sigma_t^2\\equiv \\mathbb{E}[(r_t-\\mu_t)^2\\mid \\mathcal{F}_{t-1}]$.\n",
    "* Assume $\\mu_t=0$ for simplicity. Focus is on the *volatility* $\\sigma_t$. G(ARCH) models make $\\sigma_t$ a function of *past* returns and variances. Examples: "
   ]
  },
  {
   "cell_type": "markdown",
   "metadata": {
    "slideshow": {
     "slide_type": "slide"
    }
   },
   "source": [
    "## Examples\n",
    "* ARCH(q) (Engle, Ecta 1982):\n",
    "$$\\sigma_t=\\omega+\\sum_{i=1}^q \\alpha_ir_{t-i}^2,\\quad \\omega,\\alpha_i>0,\\quad \\sum_{i=1}^q\\alpha_i<1.$$\n",
    "* GARCH(p, q) (Bollerslev, JoE 1986)\n",
    "$$\\sigma_t=\\omega+ \\sum_{i=1}^p\\beta_{i}\\sigma_{t-i}^2 + \\sum_{i=1}^q\\alpha_ir_{t-i}^2,\\quad \\omega,\\alpha_i,\\beta_i>0,\\quad \\sum_{i=1}^{\\max p,q} \\alpha_i+\\beta_i<1.$$\n",
    "* EGARCH(o, p, q) (Nelson, Ecta 1991)\n",
    "$$\\log(\\sigma_t^2)=\\omega+\\sum_{i=1}^o\\gamma_{i}z_{t-i}+\\sum_{i=1}^p\\beta_i\\log(\\sigma_{t-i}^2)+\\sum_{i=1}^q \\alpha_i (|z_t|-\\mathbb{E}|z_t|), \\quad \\sum_{i=1}^p \\beta_i<0.$$\n",
    " \n",
    "  \n",
    "\n"
   ]
  },
  {
   "cell_type": "markdown",
   "metadata": {
    "slideshow": {
     "slide_type": "slide"
    }
   },
   "source": [
    "## Estimation\n",
    "* G(ARCH) models are usually estimated by maximum likelihood: with $f$ denoting te density of $z_t$,\n",
    "$$\\max \\prod_t\\frac{1}{\\sigma_t}f(r_t/\\sigma_t).$$\n",
    "* Recursive nature of $\\sigma_t$ means the computation cannot be \"vectorized\" $\\Rightarrow$ loops.\n",
    "* Julia is very well suited for this. Matlab (and the `rugarch` package for Python) have to implement the likelihood in C.\n",
    "\n"
   ]
  },
  {
   "cell_type": "markdown",
   "metadata": {
    "slideshow": {
     "slide_type": "slide"
    }
   },
   "source": [
    "# The ARCH Package\n",
    "* ARCH.jl is not registered yet; available at https://github.com/s-broda/ARCH.jl\n",
    "* 0.6 only so far; 0.7 support coming soon.\n",
    "* supported so far: simulation and estimation for ARCH, GARCH, and EGARCH models of arbitrary orders, with Gaussian and Student's $t$ errors.\n",
    "* Designed to be easily extensible with new models, distributions.\n",
    "* Volatility specifications are structs that subtype `VolatilitySpec`. Parametrized on $(o, p, q)$ to facilitate loop unrolling.\n",
    "* Simulation and estimation return instances of `ARCHModel`, which subtypes `StatisticalModel` from `StatsBase`.\n",
    "* Standard errors obtained by automatic differentiation via `ForwardDiff.jl`."
   ]
  },
  {
   "cell_type": "markdown",
   "metadata": {
    "slideshow": {
     "slide_type": "slide"
    }
   },
   "source": [
    "## Usage"
   ]
  },
  {
   "cell_type": "code",
   "execution_count": 5,
   "metadata": {},
   "outputs": [
    {
     "data": {
      "text/plain": [
       "\n",
       "GARCH{1,1} model with Student's t errors, T=10000.\n",
       "\n",
       "\n",
       "Mean equation parameters:\n",
       "\n",
       "       Estimate Std.Error  z value Pr(>|z|)\n",
       "μ    0.00312101 0.0282643 0.110422   0.9121\n",
       "\n",
       "Volatility parameters:\n",
       "\n",
       "      Estimate  Std.Error z value Pr(>|z|)\n",
       "ω      1.01605   0.160286 6.33896    <1e-9\n",
       "β₁    0.898115  0.0120845 74.3195   <1e-99\n",
       "α₁   0.0548009 0.00750701 7.29996   <1e-12\n",
       "\n",
       "Distribution parameters:\n",
       "\n",
       "     Estimate Std.Error z value Pr(>|z|)\n",
       "ν     2.93798  0.095268 30.8391   <1e-99\n",
       "\n"
      ]
     },
     "execution_count": 5,
     "metadata": {},
     "output_type": "execute_result"
    }
   ],
   "source": [
    "using ARCH\n",
    "srand(1); T=10^4 #sample size\n",
    "volaspec = GARCH{1, 1}([1., .9, .05]) #[omega, beta, alpha]\n",
    "am = simulate(volaspec, T; dist=StdTDist(3.)) #returns ARCHModel\n",
    "fit(GARCH{1, 1}, am.data; dist=StdTDist) #returns ARCHModel"
   ]
  },
  {
   "cell_type": "code",
   "execution_count": 6,
   "metadata": {
    "slideshow": {
     "slide_type": "slide"
    }
   },
   "outputs": [
    {
     "data": {
      "text/plain": [
       "\n",
       "EGARCH{1,1,1} model with Student's t errors, T=10000.\n",
       "\n",
       "\n",
       "Volatility parameters:\n",
       "\n",
       "       Estimate  Std.Error  z value Pr(>|z|)\n",
       "ω      0.155388  0.0234126  6.63692   <1e-10\n",
       "γ₁   0.00550377 0.00945916 0.581846   0.5607\n",
       "β₁     0.954636 0.00730722  130.643   <1e-99\n",
       "α₁     0.145216  0.0149484  9.71446   <1e-21\n",
       "\n",
       "Distribution parameters:\n",
       "\n",
       "     Estimate Std.Error z value Pr(>|z|)\n",
       "ν     2.92954 0.0945454 30.9856   <1e-99\n",
       "\n"
      ]
     },
     "execution_count": 6,
     "metadata": {},
     "output_type": "execute_result"
    }
   ],
   "source": [
    "#select an EGARCH model without intercept by minimizing AIC; o, p, q < 3\n",
    "selectmodel(EGARCH, am.data; meanspec=NoIntercept, criterion=aic, maxlags=2, dist=StdTDist)"
   ]
  },
  {
   "cell_type": "markdown",
   "metadata": {
    "slideshow": {
     "slide_type": "slide"
    }
   },
   "source": [
    "# Benchmarks\n",
    "  * Bollerslev and Ghysels (JBES 1996) data is de facto standard in comparing implementations of GARCH models.\n",
    "  * Data consist of daily German mark/British pound exchange rates (1974 observations)."
   ]
  },
  {
   "cell_type": "code",
   "execution_count": 7,
   "metadata": {},
   "outputs": [
    {
     "name": "stderr",
     "output_type": "stream",
     "text": [
      "\u001b[1m\u001b[36mINFO: \u001b[39m\u001b[22m\u001b[36mRecompiling stale cache file /home/broda/.julia/lib/v0.6/HTTP.ji for module HTTP.\n",
      "\u001b[39mWARNING: Method definition fetch(Task) in module Compat at /home/broda/.julia/v0.6/Compat/src/Compat.jl:1899 overwritten in module HTTP at /home/broda/.julia/v0.6/HTTP/src/compat.jl:65.\n",
      "WARNING: Method definition fetch(Task) in module Compat at /home/broda/.julia/v0.6/Compat/src/Compat.jl:1899 overwritten in module HTTP at /home/broda/.julia/v0.6/HTTP/src/compat.jl:65.\n"
     ]
    },
    {
     "data": {
      "image/png": "[encoded data removed]"
     },
     "execution_count": 7,
     "metadata": {},
     "output_type": "execute_result"
    }
   ],
   "source": [
    "using HTTP\n",
    "isfile(\"DMGBP.txt\") || open(\"DMGBP.txt\", \"w\") do io\n",
    "    HTTP.get(\"http://people.stern.nyu.edu/wgreene/Text/Edition7/TableF20-1.txt\", response_stream=io)\n",
    "end\n",
    "r = convert.(Float64, readcsv(\"DMGBP.txt\")[2:end]);\n",
    "plot(r)"
   ]
  },
  {
   "cell_type": "markdown",
   "metadata": {
    "slideshow": {
     "slide_type": "slide"
    }
   },
   "source": [
    "## GARCH\n",
    "* Fitting in Julia:"
   ]
  },
  {
   "cell_type": "code",
   "execution_count": 8,
   "metadata": {
    "slideshow": {
     "slide_type": "-"
    }
   },
   "outputs": [
    {
     "name": "stdout",
     "output_type": "stream",
     "text": [
      "  12.972 ms (2330 allocations: 113.77 KiB)\n"
     ]
    },
    {
     "ename": "InterruptException",
     "evalue": "\u001b[91mInterruptException:\u001b[39m",
     "output_type": "error",
     "traceback": [
      "\u001b[91mInterruptException:\u001b[39m",
      "",
      "Stacktrace:",
      " [1] \u001b[1mtypeinf_code\u001b[22m\u001b[22m\u001b[1m(\u001b[22m\u001b[22m::Core.MethodInstance, ::Bool, ::Bool, ::Core.Inference.InferenceParams\u001b[1m)\u001b[22m\u001b[22m at \u001b[1m./inference.jl:2584\u001b[22m\u001b[22m",
      " [2] \u001b[1mtypeinf_ext\u001b[22m\u001b[22m\u001b[1m(\u001b[22m\u001b[22m::Core.MethodInstance, ::UInt64\u001b[1m)\u001b[22m\u001b[22m at \u001b[1m./inference.jl:2622\u001b[22m\u001b[22m",
      " [3] \u001b[1mjacobian\u001b[22m\u001b[22m\u001b[1m(\u001b[22m\u001b[22m::Function, ::Array{Float64,1}, ::ForwardDiff.JacobianConfig{ForwardDiff.Tag{ARCH.##8#9{ARCH.ARCHModel{Float64,ARCH.GARCH{1,1,Float64},ARCH.StdNormal{Float64},ARCH.NoIntercept{Float64}}},Float64},Float64,3,Array{ForwardDiff.Dual{ForwardDiff.Tag{ARCH.##8#9{ARCH.ARCHModel{Float64,ARCH.GARCH{1,1,Float64},ARCH.StdNormal{Float64},ARCH.NoIntercept{Float64}}},Float64},Float64,3},1}}, ::Val{false}\u001b[1m)\u001b[22m\u001b[22m at \u001b[1m/home/broda/.julia/v0.6/ForwardDiff/src/jacobian.jl:17\u001b[22m\u001b[22m",
      " [4] \u001b[1mhessian\u001b[22m\u001b[22m\u001b[1m(\u001b[22m\u001b[22m::Function, ::Array{Float64,1}, ::ForwardDiff.HessianConfig{ForwardDiff.Tag{ARCH.##8#9{ARCH.ARCHModel{Float64,ARCH.GARCH{1,1,Float64},ARCH.StdNormal{Float64},ARCH.NoIntercept{Float64}}},Float64},Float64,3,Array{ForwardDiff.Dual{ForwardDiff.Tag{ARCH.##8#9{ARCH.ARCHModel{Float64,ARCH.GARCH{1,1,Float64},ARCH.StdNormal{Float64},ARCH.NoIntercept{Float64}}},Float64},ForwardDiff.Dual{ForwardDiff.Tag{ARCH.##8#9{ARCH.ARCHModel{Float64,ARCH.GARCH{1,1,Float64},ARCH.StdNormal{Float64},ARCH.NoIntercept{Float64}}},Float64},Float64,3},3},1},Array{ForwardDiff.Dual{ForwardDiff.Tag{ARCH.##8#9{ARCH.ARCHModel{Float64,ARCH.GARCH{1,1,Float64},ARCH.StdNormal{Float64},ARCH.NoIntercept{Float64}}},Float64},Float64,3},1}}, ::Val{true}\u001b[1m)\u001b[22m\u001b[22m at \u001b[1m/home/broda/.julia/v0.6/ForwardDiff/src/hessian.jl:17\u001b[22m\u001b[22m",
      " [5] \u001b[1mhessian\u001b[22m\u001b[22m\u001b[1m(\u001b[22m\u001b[22m::Function, ::Array{Float64,1}, ::ForwardDiff.HessianConfig{ForwardDiff.Tag{ARCH.##8#9{ARCH.ARCHModel{Float64,ARCH.GARCH{1,1,Float64},ARCH.StdNormal{Float64},ARCH.NoIntercept{Float64}}},Float64},Float64,3,Array{ForwardDiff.Dual{ForwardDiff.Tag{ARCH.##8#9{ARCH.ARCHModel{Float64,ARCH.GARCH{1,1,Float64},ARCH.StdNormal{Float64},ARCH.NoIntercept{Float64}}},Float64},ForwardDiff.Dual{ForwardDiff.Tag{ARCH.##8#9{ARCH.ARCHModel{Float64,ARCH.GARCH{1,1,Float64},ARCH.StdNormal{Float64},ARCH.NoIntercept{Float64}}},Float64},Float64,3},3},1},Array{ForwardDiff.Dual{ForwardDiff.Tag{ARCH.##8#9{ARCH.ARCHModel{Float64,ARCH.GARCH{1,1,Float64},ARCH.StdNormal{Float64},ARCH.NoIntercept{Float64}}},Float64},Float64,3},1}}\u001b[1m)\u001b[22m\u001b[22m at \u001b[1m/home/broda/.julia/v0.6/ForwardDiff/src/hessian.jl:15\u001b[22m\u001b[22m (repeats 2 times)",
      " [6] \u001b[1m#informationmatrix#7\u001b[22m\u001b[22m\u001b[1m(\u001b[22m\u001b[22m::Bool, ::Function, ::ARCH.ARCHModel{Float64,ARCH.GARCH{1,1,Float64},ARCH.StdNormal{Float64},ARCH.NoIntercept{Float64}}\u001b[1m)\u001b[22m\u001b[22m at \u001b[1m/home/broda/julia/local_packages/ARCH/src/ARCH.jl:266\u001b[22m\u001b[22m",
      " [7] \u001b[1m(::StatsBase.#kw##informationmatrix)\u001b[22m\u001b[22m\u001b[1m(\u001b[22m\u001b[22m::Array{Any,1}, ::StatsBase.#informationmatrix, ::ARCH.ARCHModel{Float64,ARCH.GARCH{1,1,Float64},ARCH.StdNormal{Float64},ARCH.NoIntercept{Float64}}\u001b[1m)\u001b[22m\u001b[22m at \u001b[1m./<missing>:0\u001b[22m\u001b[22m",
      " [8] \u001b[1mvcov\u001b[22m\u001b[22m\u001b[1m(\u001b[22m\u001b[22m::ARCH.ARCHModel{Float64,ARCH.GARCH{1,1,Float64},ARCH.StdNormal{Float64},ARCH.NoIntercept{Float64}}\u001b[1m)\u001b[22m\u001b[22m at \u001b[1m/home/broda/julia/local_packages/ARCH/src/ARCH.jl:281\u001b[22m\u001b[22m",
      " [9] \u001b[1mstderror\u001b[22m\u001b[22m at \u001b[1m/home/broda/julia/local_packages/ARCH/src/ARCH.jl:297\u001b[22m\u001b[22m [inlined]",
      " [10] \u001b[1mshow\u001b[22m\u001b[22m\u001b[1m(\u001b[22m\u001b[22m::IOContext{Base.AbstractIOBuffer{Array{UInt8,1}}}, ::ARCH.ARCHModel{Float64,ARCH.GARCH{1,1,Float64},ARCH.StdNormal{Float64},ARCH.NoIntercept{Float64}}\u001b[1m)\u001b[22m\u001b[22m at \u001b[1m/home/broda/julia/local_packages/ARCH/src/ARCH.jl:431\u001b[22m\u001b[22m",
      " [11] \u001b[1mlimitstringmime\u001b[22m\u001b[22m\u001b[1m(\u001b[22m\u001b[22m::MIME{Symbol(\"text/plain\")}, ::ARCH.ARCHModel{Float64,ARCH.GARCH{1,1,Float64},ARCH.StdNormal{Float64},ARCH.NoIntercept{Float64}}\u001b[1m)\u001b[22m\u001b[22m at \u001b[1m/home/broda/.julia/v0.6/IJulia/src/inline.jl:24\u001b[22m\u001b[22m",
      " [12] \u001b[1mdisplay_dict\u001b[22m\u001b[22m\u001b[1m(\u001b[22m\u001b[22m::ARCH.ARCHModel{Float64,ARCH.GARCH{1,1,Float64},ARCH.StdNormal{Float64},ARCH.NoIntercept{Float64}}\u001b[1m)\u001b[22m\u001b[22m at \u001b[1m/home/broda/.julia/v0.6/IJulia/src/execute_request.jl:28\u001b[22m\u001b[22m",
      " [13] \u001b[1m(::Compat.#inner#18{Array{Any,1},IJulia.#display_dict,Tuple{ARCH.ARCHModel{Float64,ARCH.GARCH{1,1,Float64},ARCH.StdNormal{Float64},ARCH.NoIntercept{Float64}}}})\u001b[22m\u001b[22m\u001b[1m(\u001b[22m\u001b[22m\u001b[1m)\u001b[22m\u001b[22m at \u001b[1m/home/broda/.julia/v0.6/Compat/src/Compat.jl:378\u001b[22m\u001b[22m",
      " [14] \u001b[1mexecute_request\u001b[22m\u001b[22m\u001b[1m(\u001b[22m\u001b[22m::ZMQ.Socket, ::IJulia.Msg\u001b[1m)\u001b[22m\u001b[22m at \u001b[1m/home/broda/.julia/v0.6/IJulia/src/execute_request.jl:186\u001b[22m\u001b[22m",
      " [15] \u001b[1m(::Compat.#inner#18{Array{Any,1},IJulia.#execute_request,Tuple{ZMQ.Socket,IJulia.Msg}})\u001b[22m\u001b[22m\u001b[1m(\u001b[22m\u001b[22m\u001b[1m)\u001b[22m\u001b[22m at \u001b[1m/home/broda/.julia/v0.6/Compat/src/Compat.jl:378\u001b[22m\u001b[22m",
      " [16] \u001b[1meventloop\u001b[22m\u001b[22m\u001b[1m(\u001b[22m\u001b[22m::ZMQ.Socket\u001b[1m)\u001b[22m\u001b[22m at \u001b[1m/home/broda/.julia/v0.6/IJulia/src/eventloop.jl:8\u001b[22m\u001b[22m",
      " [17] \u001b[1m(::IJulia.##14#17)\u001b[22m\u001b[22m\u001b[1m(\u001b[22m\u001b[22m\u001b[1m)\u001b[22m\u001b[22m at \u001b[1m./task.jl:335\u001b[22m\u001b[22m"
     ]
    }
   ],
   "source": [
    "using ARCH, BenchmarkTools\n",
    "@btime fit(GARCH{1, 1}, $r, meanspec=NoIntercept) #Matlab doesn't use an intercept"
   ]
  },
  {
   "cell_type": "markdown",
   "metadata": {
    "slideshow": {
     "slide_type": "slide"
    }
   },
   "source": [
    "* Now Matlab:"
   ]
  },
  {
   "cell_type": "code",
   "execution_count": null,
   "metadata": {},
   "outputs": [],
   "source": [
    "using MATLAB"
   ]
  },
  {
   "cell_type": "code",
   "execution_count": null,
   "metadata": {},
   "outputs": [],
   "source": [
    "#run this cell a few times to give Matlab a fair chance\n",
    "mat\"tic; estimate(garch(1, 1), $r); toc; 0\";"
   ]
  },
  {
   "cell_type": "markdown",
   "metadata": {
    "slideshow": {
     "slide_type": "-"
    }
   },
   "source": [
    "* ARCH.jl is faster by a factor of about 10.\n",
    "* Estimates are quite similar, but the standard errors and $t$-statistics are not."
   ]
  },
  {
   "cell_type": "markdown",
   "metadata": {
    "slideshow": {
     "slide_type": "slide"
    }
   },
   "source": [
    "* So which standard errors are correct? Let's compare with the results from Brooks et. al. (Int. J. Fcst. 2001).\n",
    "* They use a model with intercept, so let’s re-estimate in Julia (not sure how to include an intercept in Matlab):"
   ]
  },
  {
   "cell_type": "code",
   "execution_count": null,
   "metadata": {},
   "outputs": [],
   "source": [
    "@btime fit(GARCH{1, 1}, $r)"
   ]
  },
  {
   "cell_type": "markdown",
   "metadata": {},
   "source": [
    "* Brooks et. al. give the estimates (**$t$-stats**)\n",
    "$\\mu=−0.00619$ $(\\mathbf{−0.67})$, $\\omega=0.0108$ $(\\mathbf{1.66})$, $\\beta_1=0.806$ $(\\mathbf{11.11})$, $\\alpha_1=0.153$ $(\\mathbf{2.86})$.\n",
    "* We are pretty close. Difference is due to the way presample values are computed. We can match Brooks et. al. exactly if we use the historical instead of the unconditional variance."
   ]
  },
  {
   "cell_type": "markdown",
   "metadata": {
    "slideshow": {
     "slide_type": "slide"
    }
   },
   "source": [
    "## EGARCH\n",
    "* Julia:"
   ]
  },
  {
   "cell_type": "code",
   "execution_count": null,
   "metadata": {},
   "outputs": [],
   "source": [
    "@btime fit(EGARCH{1, 1, 1}, $r, meanspec=NoIntercept)"
   ]
  },
  {
   "cell_type": "markdown",
   "metadata": {},
   "source": [
    "* Matlab:"
   ]
  },
  {
   "cell_type": "code",
   "execution_count": null,
   "metadata": {},
   "outputs": [],
   "source": [
    "mat\"tic; estimate(egarch(1, 1), $r); toc; 0\" #Matlab sets o=q"
   ]
  },
  {
   "cell_type": "markdown",
   "metadata": {},
   "source": [
    "* Brooks et. al. give no benchmark results. But again, Julia is faster by a factor of about 10."
   ]
  },
  {
   "cell_type": "markdown",
   "metadata": {
    "slideshow": {
     "slide_type": "slide"
    }
   },
   "source": [
    "#  TODO\n",
    "*  0.7 compatibility\n",
    "*  docs\n",
    "*  forecasting\n",
    "*  More models, distributions\n",
    "*  Value at Risk\n",
    "*  backtesting\n",
    "*  MGARCH\n"
   ]
  },
  {
   "cell_type": "markdown",
   "metadata": {
    "slideshow": {
     "slide_type": "slide"
    }
   },
   "source": [
    "# References\n",
    "* Bollerslev, T (1986). Generalized autoregressive conditional heteroskedasticity. *Journal of Econometrics* **31**, 307–327.\n",
    "* Bollerslev, T. & Ghysels, E. (1996). Periodic Autoregressive Conditional Heteroscedasticity. *Journal of Business & Economic Statistics* **14**, 139-151. https://doi.org/10.1080/07350015.1996.10524640.\n",
    "* Brooks, C., Burke, S. P., & Persand, G. (2001). Benchmarks and the accuracy of GARCH model estimation. *International Journal of Forecasting* **17**, 45-56. https://doi.org/10.1016/S0169-2070(00)00070-4.\n",
    "* Engle, R. F. (1982). Autoregressive Conditional Heteroscedasticity with Estimates of the Variance of United Kingdom Inflation. *Econometrica* **50**, 987-1007. https://doi.org/10.2307/1912773.\n",
    "* Nelson, D.B. (1991). Conditional Heteroskedasticity in Asset Returns: A New Approach. *Econometrica* **59**, 347--370. https://doi.org/10.2307/2938260.\n",
    "\n"
   ]
  }
 ],
 "metadata": {
  "celltoolbar": "Slideshow",
  "kernelspec": {
   "display_name": "Julia 0.6.2",
   "language": "julia",
   "name": "julia-0.6"
  },
  "language_info": {
   "file_extension": ".jl",
   "mimetype": "application/julia",
   "name": "julia",
   "version": "0.6.2"
  }
 },
 "nbformat": 4,
 "nbformat_minor": 2
}
