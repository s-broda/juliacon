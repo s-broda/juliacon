{
 "cells": [
  {
   "cell_type": "markdown",
   "metadata": {
    "slideshow": {
     "slide_type": "slide"
    }
   },
   "source": [
    "##### <p style=\"text-align: center; font-size: 300%\"> ARCH Models in Julia </p>\n",
    "<p style=\"text-align: center; font-size: 200%\"> Simon A. Broda </p>\n",
    "<p style=\"text-align: center; font-size: 100%\"> University of Zurich and University of Amsterdam <br>\n",
    "<a href=\"mailto:simon.broda@uzh.ch\">simon.broda@uzh.ch</a> </p>\n",
    "<img src=\"LOGO_ERC-FLAG_EU_.jpg\" alt=\"LOGO\" style=\"display:block; margin-left: auto; margin-right: auto; width: 20%;\">\n",
    "<p style=\"text-align: center; font-size: 100%\"> This project has received funding from the European Research Council (ERC) under the European Union's Horizon 2020 research and innovation program (grant agreement No. 750559). </p>"
   ]
  },
  {
   "cell_type": "markdown",
   "metadata": {
    "slideshow": {
     "slide_type": "slide"
    }
   },
   "source": [
    "# Introduction\n",
    "* Daily financial returns data exhibit a number of *stylized facts*:\n",
    "  * Volatility clustering\n",
    "  * Non-Gaussianity, fat tails\n",
    "  * Leverage effects: negative returns increase future volatility\n",
    "* Other types of data (e.g., changes in interest rates) exhibit similar phenomena.\n",
    "* These effects are important in many areas in finance, in particular in risk management.\n",
    "* [G]ARCH ([**G**eneralized] **A**utoregressive **C**onditional **V**olatility) models are the most popular for modelling them."
   ]
  },
  {
   "cell_type": "code",
   "execution_count": 1,
   "metadata": {
    "slideshow": {
     "slide_type": "skip"
    }
   },
   "outputs": [],
   "source": [
    "@static if !isfile(\"returns.png\") || !isfile(\"kde.png\")\n",
    "    using MarketData, TimeSeries, Plots, Distributions, KernelDensity, StatPlots\n",
    "    pyplot()\n",
    "    r = percentchange(MarketData.AAPL[\"Adj. Close\"])\n",
    "    p = plot(r)\n",
    "    savefig(\"returns\")\n",
    "    plot(kde(r.values), label=\"Kernel Density\")\n",
    "    plot!(fit(Normal,r.values), label=\"Fitted Normal\")\n",
    "    savefig(\"kde\")\n",
    "end"
   ]
  },
  {
   "cell_type": "markdown",
   "metadata": {
    "slideshow": {
     "slide_type": "slide"
    }
   },
   "source": [
    "## Example: volatility clustering in AAPL returns\n",
    "<img src=\"returns.png\" alt=\"RETURNS\" style=\"display:block; margin-left: auto; margin-right: auto; width: 50%;\">"
   ]
  },
  {
   "cell_type": "markdown",
   "metadata": {
    "slideshow": {
     "slide_type": "slide"
    }
   },
   "source": [
    "## Example: fat tails in AAPL return density\n",
    "<img src=\"kde.png\" alt=\"Kernel Density\" style=\"display:block; margin-left: auto; margin-right: auto; width: 50%;\">"
   ]
  },
  {
   "cell_type": "markdown",
   "metadata": {
    "slideshow": {
     "slide_type": "slide"
    }
   },
   "source": [
    "\n",
    "\n",
    "# (G)ARCH Models\n",
    "* Basic setup: given a sample of financial returns $\\{r_t\\}_{t\\in\\{1,\\ldots,T\\}}$, decompose $r_t$ as\n",
    "$$\n",
    "r_t=\\mu_t+\\sigma_tz_t, \\quad z_t\\stackrel{i.i.d.}{\\sim}(0,1),\n",
    "$$\n",
    "where $\\mu_t\\equiv\\mathbb{E}[r_t\\mid \\mathcal{F}_{t-1}]$ and $\\sigma_t^2\\equiv \\mathbb{E}[(r_t-\\mu_t)^2\\mid \\mathcal{F}_{t-1}]$.\n",
    "* Assume $\\mu_t=0$ for simplicity. Focus is on the *volatility* $\\sigma_t$. G(ARCH) models make $\\sigma_t$ a function of *past* returns and variances. Examples: "
   ]
  },
  {
   "cell_type": "markdown",
   "metadata": {
    "slideshow": {
     "slide_type": "slide"
    }
   },
   "source": [
    "## Examples\n",
    "* ARCH(q) (Engle, Ecta 1982):\n",
    "$$\\sigma_t=\\omega+\\sum_{i=1}^q \\alpha_ir_{t-i}^2%,\\quad \\omega,\\alpha_i>0,\\quad \\sum_{i=1}^q\\alpha_i<1.\n",
    "$$\n",
    "* GARCH(p, q) (Bollerslev, JoE 1986)\n",
    "$$\\sigma_t=\\omega+ \\sum_{i=1}^p\\beta_{i}\\sigma_{t-i}^2 + \\sum_{i=1}^q\\alpha_ir_{t-i}^2%,\\quad \\omega,\\alpha_i,\\beta_i>0,\\quad \\sum_{i=1}^{\\max p,q} \\alpha_i+\\beta_i<1.\n",
    "$$\n",
    "* EGARCH(o, p, q) (Nelson, Ecta 1991)\n",
    "$$\\log(\\sigma_t^2)=\\omega+\\sum_{i=1}^o\\gamma_{i}z_{t-i}+\\sum_{i=1}^p\\beta_i\\log(\\sigma_{t-i}^2)+\\sum_{i=1}^q \\alpha_i (|z_t|-\\mathbb{E}|z_t|)%, \\quad \\sum_{i=1}^p \\beta_i<0.\n",
    "$$\n",
    " \n",
    "  \n",
    "\n"
   ]
  },
  {
   "cell_type": "markdown",
   "metadata": {
    "slideshow": {
     "slide_type": "slide"
    }
   },
   "source": [
    "## Estimation\n",
    "* G(ARCH) models are usually estimated by maximum likelihood: with $f_z$ denoting the density of $z_t$,\n",
    "$$\\max \\prod_t f(r_t\\mid \\mathcal{F}_{t-1})=\\max \\prod_t\\frac{1}{\\sigma_t}f_z(r_t/\\sigma_t).$$\n",
    "* Recursive nature of $\\sigma_t$ means the computation cannot be \"vectorized\" $\\Rightarrow$ loops.\n",
    "* Julia is very well suited for this. Matlab (and the `rugarch` package for Python) have to implement the likelihood in C.\n",
    "\n"
   ]
  },
  {
   "cell_type": "markdown",
   "metadata": {
    "slideshow": {
     "slide_type": "slide"
    }
   },
   "source": [
    "# The ARCH Package\n",
    "* ARCH.jl is not registered yet; available at https://github.com/s-broda/ARCH.jl\n",
    "* 0.6 only so far; 0.7 support coming soon.\n",
    "* Currently supported: simulation and estimation for ARCH, GARCH, and EGARCH models of arbitrary orders, with Gaussian and Student's $t$ errors.\n",
    "* Designed to be easily extensible with new models, distributions.\n",
    "* Volatility specifications subtype `VolatilitySpec`. Parametrized on $(o, p, q)$ to facilitate loop unrolling.\n",
    "* Simulation and estimation return instances of `ARCHModel`, which implements `StatisticalModel` from `StatsBase`.\n",
    "* Standard errors obtained by AD via `ForwardDiff.jl`."
   ]
  },
  {
   "cell_type": "markdown",
   "metadata": {
    "slideshow": {
     "slide_type": "slide"
    }
   },
   "source": [
    "## Usage"
   ]
  },
  {
   "cell_type": "code",
   "execution_count": 2,
   "metadata": {
    "slideshow": {
     "slide_type": "skip"
    }
   },
   "outputs": [],
   "source": [
    "using Suppressor  # silence some method overwrite warnings\n",
    "@suppress using ARCH"
   ]
  },
  {
   "cell_type": "code",
   "execution_count": 3,
   "metadata": {},
   "outputs": [
    {
     "data": {
      "text/plain": [
       "\n",
       "GARCH{1,1} model with Student's t errors, T=10000.\n",
       "\n",
       "\n",
       "Mean equation parameters:\n",
       "\n",
       "      Estimate Std.Error  z value Pr(>|z|)\n",
       "μ    0.0031089  0.028261 0.110007   0.9124\n",
       "\n",
       "Volatility parameters:\n",
       "\n",
       "      Estimate Std.Error z value Pr(>|z|)\n",
       "ω      1.01996   0.16134  6.3218    <1e-9\n",
       "β₁    0.898131 0.0121042 74.1999   <1e-99\n",
       "α₁   0.0551944 0.0076214 7.24203   <1e-12\n",
       "\n",
       "Distribution parameters:\n",
       "\n",
       "     Estimate Std.Error z value Pr(>|z|)\n",
       "ν     2.92974  0.096228 30.4458   <1e-99\n",
       "\n"
      ]
     },
     "execution_count": 3,
     "metadata": {},
     "output_type": "execute_result"
    }
   ],
   "source": [
    "using ARCH\n",
    "srand(1); T = 10^4  # sample size\n",
    "volaspec = GARCH{1, 1}([1., .9, .05])  # [omega, beta, alpha]\n",
    "am = simulate(volaspec, T; dist=StdTDist(3.))  # returns ARCHModel\n",
    "fit(GARCH{1, 1}, am.data; dist=StdTDist)  # returns ARCHModel"
   ]
  },
  {
   "cell_type": "code",
   "execution_count": 4,
   "metadata": {
    "slideshow": {
     "slide_type": "slide"
    }
   },
   "outputs": [
    {
     "data": {
      "text/plain": [
       "\n",
       "EGARCH{1,1,1} model with Student's t errors, T=10000.\n",
       "\n",
       "\n",
       "Volatility parameters:\n",
       "\n",
       "       Estimate  Std.Error  z value Pr(>|z|)\n",
       "ω      0.153944  0.0235374  6.54041   <1e-10\n",
       "γ₁   0.00552637 0.00946358 0.583962   0.5592\n",
       "β₁     0.955436 0.00737491  129.552   <1e-99\n",
       "α₁     0.145674  0.0150556  9.67573   <1e-21\n",
       "\n",
       "Distribution parameters:\n",
       "\n",
       "     Estimate Std.Error z value Pr(>|z|)\n",
       "ν     2.91693 0.0953735 30.5842   <1e-99\n",
       "\n"
      ]
     },
     "execution_count": 4,
     "metadata": {},
     "output_type": "execute_result"
    }
   ],
   "source": [
    "# select an EGARCH model without intercept by minimizing AIC; o, p, q < 3\n",
    "# Uses multiple threads to estimate several (here 2*2*2=8) models\n",
    "am2 = selectmodel(EGARCH, am.data; meanspec=NoIntercept, criterion=aic, maxlags=2, dist=StdTDist)"
   ]
  },
  {
   "cell_type": "code",
   "execution_count": 5,
   "metadata": {
    "slideshow": {
     "slide_type": "-"
    }
   },
   "outputs": [
    {
     "data": {
      "text/plain": [
       "2×5 Array{Float64,2}:\n",
       " 0.107812  -0.0130219  0.940981  0.116165  2.73   \n",
       " 0.200077   0.0240746  0.96989   0.175182  3.10385"
      ]
     },
     "execution_count": 5,
     "metadata": {},
     "output_type": "execute_result"
    }
   ],
   "source": [
    "# Most of the interface of StatisticalModel is implemented:\n",
    "# loglikelihood, nobs, fit, fit!, confint, aic, bic, aicc, dof, coef,\n",
    "# coefnames, coeftable, CoefTable, informationmatrix, islinear, score, vcov:\n",
    "confint(am2)'"
   ]
  },
  {
   "cell_type": "markdown",
   "metadata": {
    "slideshow": {
     "slide_type": "slide"
    }
   },
   "source": [
    "# Benchmarks\n",
    "  * Bollerslev and Ghysels (JBES 1996) data is de facto standard in comparing implementations of GARCH models.\n",
    "  * Data consist of daily German mark/British pound exchange rates (1974 observations)."
   ]
  },
  {
   "cell_type": "code",
   "execution_count": 6,
   "metadata": {},
   "outputs": [],
   "source": [
    "@static if !isfile(\"DMGBP.txt\")\n",
    "    using HTTP\n",
    "    open(\"DMGBP.txt\", \"w\") do io\n",
    "        HTTP.get(\"http://people.stern.nyu.edu/wgreene/Text/Edition7/TableF20-1.txt\", response_stream=io)\n",
    "    end\n",
    "end\n",
    "r = convert.(Float64, readcsv(\"DMGBP.txt\")[2:end]);\n",
    "@static if !isfile(\"DMGBP.png\")\n",
    "    using Plots\n",
    "    plot(r)\n",
    "    savefig(\"DMGBP\")\n",
    "end"
   ]
  },
  {
   "cell_type": "markdown",
   "metadata": {
    "slideshow": {
     "slide_type": "slide"
    }
   },
   "source": [
    "## Bollerslev and Ghysels data\n",
    "<img src=\"returns.png\" alt=\"RETURNS\" style=\"display:block; margin-left: auto; margin-right: auto; width: 50%;\">"
   ]
  },
  {
   "cell_type": "markdown",
   "metadata": {
    "slideshow": {
     "slide_type": "slide"
    }
   },
   "source": [
    "## GARCH\n",
    "* Fitting in Julia:"
   ]
  },
  {
   "cell_type": "code",
   "execution_count": 7,
   "metadata": {
    "slideshow": {
     "slide_type": "-"
    }
   },
   "outputs": [
    {
     "data": {
      "text/plain": [
       "\n",
       "GARCH{1,1} model with Gaussian errors, T=1974.\n",
       "\n",
       "\n",
       "Volatility parameters:\n",
       "\n",
       "      Estimate  Std.Error z value Pr(>|z|)\n",
       "ω    0.0108661 0.00657449 1.65277   0.0984\n",
       "β₁    0.804431  0.0730395 11.0136   <1e-27\n",
       "α₁    0.154597  0.0539319 2.86651   0.0042\n",
       "\n"
      ]
     },
     "execution_count": 7,
     "metadata": {},
     "output_type": "execute_result"
    },
    {
     "name": "stdout",
     "output_type": "stream",
     "text": [
      "  15.165 ms (2617 allocations: 125.69 KiB)\n"
     ]
    }
   ],
   "source": [
    "using BenchmarkTools\n",
    "@btime fit(GARCH{1, 1}, $r, meanspec=NoIntercept)  # Matlab doesn't use an intercept"
   ]
  },
  {
   "cell_type": "markdown",
   "metadata": {
    "slideshow": {
     "slide_type": "slide"
    }
   },
   "source": [
    "* Now Matlab:"
   ]
  },
  {
   "cell_type": "code",
   "execution_count": 8,
   "metadata": {},
   "outputs": [
    {
     "data": {
      "text/plain": [
       "\"9.4.0.813654 (R2018a)\""
      ]
     },
     "execution_count": 8,
     "metadata": {},
     "output_type": "execute_result"
    }
   ],
   "source": [
    "using MATLAB\n",
    "mat\"version\""
   ]
  },
  {
   "cell_type": "code",
   "execution_count": 13,
   "metadata": {},
   "outputs": [
    {
     "name": "stdout",
     "output_type": "stream",
     "text": [
      " \n",
      "    GARCH(1,1) Conditional Variance Model (Gaussian Distribution):\n",
      " \n",
      "                 Value      StandardError    TStatistic      PValue  \n",
      "                ________    _____________    __________    __________\n",
      "\n",
      "    Constant    0.010868      0.0012972        8.3779      5.3896e-17\n",
      "    GARCH{1}     0.80452       0.016038        50.162               0\n",
      "    ARCH{1}      0.15433       0.013852        11.141      7.9448e-29\n",
      "\n",
      "Elapsed time is 0.102115 seconds.\n"
     ]
    }
   ],
   "source": [
    "# run this cell a few times to give Matlab a fair chance\n",
    "mat\"tic; estimate(garch(1, 1), $r); toc; 0\";"
   ]
  },
  {
   "cell_type": "markdown",
   "metadata": {
    "slideshow": {
     "slide_type": "-"
    }
   },
   "source": [
    "* ARCH.jl is faster by a factor of about 5-10, depending on the machine.\n",
    "* Estimates are quite similar, but standard errors and $t$-statistics differ.\n",
    "* So which standard errors are correct? Let's compare with the results from Brooks et. al. (Int. J. Fcst. 2001)."
   ]
  },
  {
   "cell_type": "markdown",
   "metadata": {
    "slideshow": {
     "slide_type": "slide"
    }
   },
   "source": [
    "* Brooks et. al. compare implementations of the GARCH(1, 1) model. They use a model with intercept, so let’s re-estimate in Julia (Matlab doesn't seem to allow this):"
   ]
  },
  {
   "cell_type": "code",
   "execution_count": 14,
   "metadata": {
    "slideshow": {
     "slide_type": "-"
    }
   },
   "outputs": [
    {
     "data": {
      "text/plain": [
       "\n",
       "GARCH{1,1} model with Gaussian errors, T=1974.\n",
       "\n",
       "\n",
       "Mean equation parameters:\n",
       "\n",
       "        Estimate  Std.Error   z value Pr(>|z|)\n",
       "μ    -0.00616637 0.00920163 -0.670139   0.5028\n",
       "\n",
       "Volatility parameters:\n",
       "\n",
       "      Estimate  Std.Error z value Pr(>|z|)\n",
       "ω    0.0107606 0.00649493 1.65677   0.0976\n",
       "β₁    0.805875  0.0725003 11.1155   <1e-27\n",
       "α₁    0.153411  0.0536586 2.85903   0.0042\n",
       "\n"
      ]
     },
     "execution_count": 14,
     "metadata": {},
     "output_type": "execute_result"
    }
   ],
   "source": [
    "fit(GARCH{1, 1}, r)"
   ]
  },
  {
   "cell_type": "markdown",
   "metadata": {},
   "source": [
    "* Brooks et. al. give the estimates (**$t$-stats**)\n",
    "$\\mu=−0.00619$ $(\\mathbf{−0.67})$, $\\omega=0.0108$ $(\\mathbf{1.66})$, $\\beta_1=0.806$ $(\\mathbf{11.11})$, $\\alpha_1=0.153$ $(\\mathbf{2.86})$. Pretty close!"
   ]
  },
  {
   "cell_type": "markdown",
   "metadata": {
    "slideshow": {
     "slide_type": "slide"
    }
   },
   "source": [
    "## EGARCH\n",
    "* Julia:"
   ]
  },
  {
   "cell_type": "code",
   "execution_count": 15,
   "metadata": {},
   "outputs": [
    {
     "data": {
      "text/plain": [
       "\n",
       "EGARCH{1,1,1} model with Gaussian errors, T=1974.\n",
       "\n",
       "\n",
       "Volatility parameters:\n",
       "\n",
       "      Estimate Std.Error  z value Pr(>|z|)\n",
       "ω    -0.128026 0.0518431 -2.46948   0.0135\n",
       "γ₁   -0.032216 0.0255372 -1.26153   0.2071\n",
       "β₁    0.911947 0.0331381  27.5196   <1e-99\n",
       "α₁    0.333243  0.070109  4.75321    <1e-5\n",
       "\n"
      ]
     },
     "execution_count": 15,
     "metadata": {},
     "output_type": "execute_result"
    },
    {
     "name": "stdout",
     "output_type": "stream",
     "text": [
      "  28.546 ms (3365 allocations: 172.89 KiB)\n"
     ]
    }
   ],
   "source": [
    "@btime fit(EGARCH{1, 1, 1}, $r, meanspec=NoIntercept)"
   ]
  },
  {
   "cell_type": "markdown",
   "metadata": {
    "slideshow": {
     "slide_type": "slide"
    }
   },
   "source": [
    "* Matlab:"
   ]
  },
  {
   "cell_type": "code",
   "execution_count": 16,
   "metadata": {},
   "outputs": [
    {
     "data": {
      "text/plain": [
       "0.0"
      ]
     },
     "execution_count": 16,
     "metadata": {},
     "output_type": "execute_result"
    },
    {
     "name": "stdout",
     "output_type": "stream",
     "text": [
      " \n",
      "    EGARCH(1,1) Conditional Variance Model (Gaussian Distribution):\n",
      " \n",
      "                     Value      StandardError    TStatistic      PValue  \n",
      "                   _________    _____________    __________    __________\n",
      "\n",
      "    Constant         -0.1283       0.015788       -8.1267      4.4118e-16\n",
      "    GARCH{1}         0.91186      0.0084535        107.87               0\n",
      "    ARCH{1}          0.33317       0.021769        15.305      7.1324e-53\n",
      "    Leverage{1}    -0.032252       0.012564        -2.567        0.010258\n",
      "\n",
      "Elapsed time is 0.147375 seconds.\n"
     ]
    }
   ],
   "source": [
    "mat\"tic; estimate(egarch(1, 1), $r); toc; 0\"  # Matlab sets o=q"
   ]
  },
  {
   "cell_type": "markdown",
   "metadata": {},
   "source": [
    "* Brooks et. al. give no benchmark results. But again, Julia is faster by a factor of about 5-10."
   ]
  },
  {
   "cell_type": "markdown",
   "metadata": {
    "slideshow": {
     "slide_type": "slide"
    }
   },
   "source": [
    "#  TODO\n",
    "*  0.7 compatibility\n",
    "*  docs\n",
    "*  forecasting\n",
    "*  more models, distributions\n",
    "*  Value at Risk\n",
    "*  backtesting\n",
    "*  MGARCH\n"
   ]
  },
  {
   "cell_type": "markdown",
   "metadata": {
    "slideshow": {
     "slide_type": "slide"
    }
   },
   "source": [
    "# References\n",
    "* Bollerslev, T (1986). Generalized autoregressive conditional heteroskedasticity. *Journal of Econometrics* **31**, 307–327.\n",
    "* Bollerslev, T. & Ghysels, E. (1996). Periodic Autoregressive Conditional Heteroscedasticity. *Journal of Business & Economic Statistics* **14**, 139-151. https://doi.org/10.1080/07350015.1996.10524640.\n",
    "* Brooks, C., Burke, S. P., & Persand, G. (2001). Benchmarks and the accuracy of GARCH model estimation. *International Journal of Forecasting* **17**, 45-56. https://doi.org/10.1016/S0169-2070(00)00070-4.\n",
    "* Engle, R. F. (1982). Autoregressive Conditional Heteroscedasticity with Estimates of the Variance of United Kingdom Inflation. *Econometrica* **50**, 987-1007. https://doi.org/10.2307/1912773.\n",
    "* Nelson, D.B. (1991). Conditional Heteroskedasticity in Asset Returns: A New Approach. *Econometrica* **59**, 347--370. https://doi.org/10.2307/2938260.\n",
    "\n"
   ]
  }
 ],
 "metadata": {
  "celltoolbar": "Slideshow",
  "kernelspec": {
   "display_name": "Julia 0.6.4",
   "language": "julia",
   "name": "julia-0.6"
  },
  "language_info": {
   "file_extension": ".jl",
   "mimetype": "application/julia",
   "name": "julia",
   "version": "0.6.4"
  }
 },
 "nbformat": 4,
 "nbformat_minor": 2
}
